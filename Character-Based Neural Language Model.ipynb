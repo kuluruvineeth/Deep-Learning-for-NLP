{
 "cells": [
  {
   "cell_type": "markdown",
   "metadata": {},
   "source": [
    "# Developing a Character-Based Neural Language Model\n",
    "* A language model predicts the next word in the sequence based on the specific words that have come before it in the sequence."
   ]
  },
  {
   "cell_type": "markdown",
   "metadata": {},
   "source": [
    "## 1. Data Preparation\n"
   ]
  },
  {
   "cell_type": "markdown",
   "metadata": {},
   "source": [
    "### 1.1 Load Text"
   ]
  },
  {
   "cell_type": "code",
   "execution_count": 1,
   "metadata": {},
   "outputs": [],
   "source": [
    "# load doc into memory\n",
    "def load_doc(filename):\n",
    "    # open the file as read only\n",
    "    file = open(filename,'r')\n",
    "    # read all text\n",
    "    text = file.read()\n",
    "    # close the file\n",
    "    file.close()\n",
    "    return text"
   ]
  },
  {
   "cell_type": "code",
   "execution_count": 2,
   "metadata": {},
   "outputs": [
    {
     "name": "stdout",
     "output_type": "stream",
     "text": [
      "Sing a song of sixpence,\n",
      "A pocket full of rye.\n",
      "Four and twenty blackbirds,\n",
      "Baked in a pie.\n",
      "When the pie was opened\n",
      "The birds began to sing;\n",
      "Wasn ' t that a dainty dish,\n",
      "To set before the king.\n",
      "The king was in his counting house,\n",
      "Counting out his money;\n",
      "The queen was in the parlour,\n",
      "Eating bread and honey.\n",
      "The maid was in the garden,\n",
      "Hanging out the clothes,\n",
      "When down came a blackbird\n",
      "And pecked off her nose.\n",
      "\n"
     ]
    }
   ],
   "source": [
    "raw_text = load_doc('rhyme.txt')\n",
    "print(raw_text)"
   ]
  },
  {
   "cell_type": "markdown",
   "metadata": {},
   "source": [
    "### 1.2 Clean Text"
   ]
  },
  {
   "cell_type": "code",
   "execution_count": 3,
   "metadata": {},
   "outputs": [],
   "source": [
    "# clean\n",
    "tokens = raw_text.split()\n",
    "raw_text = ' '.join(tokens)"
   ]
  },
  {
   "cell_type": "markdown",
   "metadata": {},
   "source": [
    "### 1.3 Create Sequences"
   ]
  },
  {
   "cell_type": "code",
   "execution_count": 4,
   "metadata": {},
   "outputs": [
    {
     "name": "stdout",
     "output_type": "stream",
     "text": [
      "Total Sequences: 401\n"
     ]
    }
   ],
   "source": [
    "# organize into sequences of characters\n",
    "\n",
    "length = 10\n",
    "sequences = list()\n",
    "for i in range(length,len(raw_text)):\n",
    "    # select sequence of tokens\n",
    "    seq = raw_text[i-length:i+1]\n",
    "    # store\n",
    "    sequences.append(seq)\n",
    "print('Total Sequences: %d' %len(sequences))"
   ]
  },
  {
   "cell_type": "markdown",
   "metadata": {},
   "source": [
    "### 1.4 Save Sequences"
   ]
  },
  {
   "cell_type": "code",
   "execution_count": 5,
   "metadata": {},
   "outputs": [],
   "source": [
    "# save tokens to file one dialog per line\n",
    "def save_doc(lines,filename):\n",
    "    data = '\\n'.join(lines)\n",
    "    file = open(filename,'w')\n",
    "    file.write(data)\n",
    "    file.close()"
   ]
  },
  {
   "cell_type": "code",
   "execution_count": 6,
   "metadata": {},
   "outputs": [],
   "source": [
    "# save sequence to file\n",
    "out_filename = 'char_sequences.txt'\n",
    "save_doc(sequences,out_filename)"
   ]
  },
  {
   "cell_type": "markdown",
   "metadata": {},
   "source": [
    "## 2. Train Language Model"
   ]
  },
  {
   "cell_type": "markdown",
   "metadata": {},
   "source": [
    "### 2.1 Load Data"
   ]
  },
  {
   "cell_type": "code",
   "execution_count": 7,
   "metadata": {},
   "outputs": [],
   "source": [
    "# load doc into memory\n",
    "def load_doc(filename):\n",
    "    # open the file as read only\n",
    "    file = open(filename,'r')\n",
    "    # read all text\n",
    "    text = file.read()\n",
    "    # close the file\n",
    "    file.close()\n",
    "    return text\n",
    "\n",
    "# load\n",
    "in_filename = 'char_sequences.txt'\n",
    "raw_text = load_doc(in_filename)\n",
    "lines = raw_text.split('\\n')"
   ]
  },
  {
   "cell_type": "markdown",
   "metadata": {},
   "source": [
    "### 2.2 Encode Sequences\n",
    "* The sequences of characters must be encoded as integers."
   ]
  },
  {
   "cell_type": "code",
   "execution_count": 9,
   "metadata": {},
   "outputs": [],
   "source": [
    "chars = sorted(list(set(raw_text)))\n",
    "mapping = dict((c,i) for i, c in enumerate(chars))"
   ]
  },
  {
   "cell_type": "code",
   "execution_count": 10,
   "metadata": {},
   "outputs": [],
   "source": [
    "sequences = list()\n",
    "for line in lines:\n",
    "    # integer encode line\n",
    "    encoded_seq = [mapping[char] for char in line]\n",
    "    # store\n",
    "    sequences.append(encoded_seq)\n",
    "\n"
   ]
  },
  {
   "cell_type": "code",
   "execution_count": 11,
   "metadata": {},
   "outputs": [
    {
     "name": "stdout",
     "output_type": "stream",
     "text": [
      "Vocabulary Size: 38\n"
     ]
    }
   ],
   "source": [
    "# vocabulary size\n",
    "vocab_size = len(mapping)\n",
    "print('Vocabulary Size: %d' %vocab_size)"
   ]
  },
  {
   "cell_type": "markdown",
   "metadata": {},
   "source": [
    "### 2.3 Split Inputs and Output"
   ]
  },
  {
   "cell_type": "code",
   "execution_count": 13,
   "metadata": {},
   "outputs": [],
   "source": [
    "from numpy import array\n",
    "sequences = array(sequences)\n",
    "X,y = sequences[:,:-1],sequences[:,-1]"
   ]
  },
  {
   "cell_type": "code",
   "execution_count": 16,
   "metadata": {},
   "outputs": [],
   "source": [
    "from keras.utils import to_categorical\n",
    "sequences = [to_categorical(x,num_classes=vocab_size) for x in X]\n",
    "X = array(sequences)\n",
    "y = to_categorical(y,num_classes=vocab_size)"
   ]
  },
  {
   "cell_type": "markdown",
   "metadata": {},
   "source": [
    "### 2.5 Complete model"
   ]
  },
  {
   "cell_type": "code",
   "execution_count": 24,
   "metadata": {
    "scrolled": false
   },
   "outputs": [
    {
     "name": "stdout",
     "output_type": "stream",
     "text": [
      "Vocabulary Size: 38\n",
      "Model: \"sequential_4\"\n",
      "_________________________________________________________________\n",
      "Layer (type)                 Output Shape              Param #   \n",
      "=================================================================\n",
      "lstm_2 (LSTM)                (None, 75)                34200     \n",
      "_________________________________________________________________\n",
      "dense_2 (Dense)              (None, 38)                2888      \n",
      "=================================================================\n",
      "Total params: 37,088\n",
      "Trainable params: 37,088\n",
      "Non-trainable params: 0\n",
      "_________________________________________________________________\n",
      "Epoch 1/100\n",
      "13/13 - 0s - loss: 3.6161 - accuracy: 0.0599\n",
      "Epoch 2/100\n",
      "13/13 - 0s - loss: 3.5033 - accuracy: 0.1895\n",
      "Epoch 3/100\n",
      "13/13 - 0s - loss: 3.1646 - accuracy: 0.1945\n",
      "Epoch 4/100\n",
      "13/13 - 0s - loss: 3.0682 - accuracy: 0.1945\n",
      "Epoch 5/100\n",
      "13/13 - 0s - loss: 3.0129 - accuracy: 0.1945\n",
      "Epoch 6/100\n",
      "13/13 - 0s - loss: 2.9832 - accuracy: 0.1945\n",
      "Epoch 7/100\n",
      "13/13 - 0s - loss: 2.9735 - accuracy: 0.1945\n",
      "Epoch 8/100\n",
      "13/13 - 0s - loss: 2.9594 - accuracy: 0.1945\n",
      "Epoch 9/100\n",
      "13/13 - 0s - loss: 2.9427 - accuracy: 0.1945\n",
      "Epoch 10/100\n",
      "13/13 - 0s - loss: 2.9279 - accuracy: 0.1945\n",
      "Epoch 11/100\n",
      "13/13 - 0s - loss: 2.9079 - accuracy: 0.1945\n",
      "Epoch 12/100\n",
      "13/13 - 0s - loss: 2.8912 - accuracy: 0.2120\n",
      "Epoch 13/100\n",
      "13/13 - 0s - loss: 2.8748 - accuracy: 0.2020\n",
      "Epoch 14/100\n",
      "13/13 - 0s - loss: 2.8557 - accuracy: 0.2170\n",
      "Epoch 15/100\n",
      "13/13 - 0s - loss: 2.8196 - accuracy: 0.2045\n",
      "Epoch 16/100\n",
      "13/13 - 0s - loss: 2.7890 - accuracy: 0.2219\n",
      "Epoch 17/100\n",
      "13/13 - 0s - loss: 2.7568 - accuracy: 0.2195\n",
      "Epoch 18/100\n",
      "13/13 - 0s - loss: 2.7309 - accuracy: 0.2170\n",
      "Epoch 19/100\n",
      "13/13 - 0s - loss: 2.6753 - accuracy: 0.2668\n",
      "Epoch 20/100\n",
      "13/13 - 0s - loss: 2.6554 - accuracy: 0.2344\n",
      "Epoch 21/100\n",
      "13/13 - 0s - loss: 2.6050 - accuracy: 0.2643\n",
      "Epoch 22/100\n",
      "13/13 - 0s - loss: 2.5536 - accuracy: 0.2594\n",
      "Epoch 23/100\n",
      "13/13 - 0s - loss: 2.5192 - accuracy: 0.2618\n",
      "Epoch 24/100\n",
      "13/13 - 0s - loss: 2.4900 - accuracy: 0.2968\n",
      "Epoch 25/100\n",
      "13/13 - 0s - loss: 2.4434 - accuracy: 0.3167\n",
      "Epoch 26/100\n",
      "13/13 - 0s - loss: 2.3953 - accuracy: 0.3067\n",
      "Epoch 27/100\n",
      "13/13 - 0s - loss: 2.3732 - accuracy: 0.3416\n",
      "Epoch 28/100\n",
      "13/13 - 0s - loss: 2.3308 - accuracy: 0.3242\n",
      "Epoch 29/100\n",
      "13/13 - 0s - loss: 2.2785 - accuracy: 0.3441\n",
      "Epoch 30/100\n",
      "13/13 - 0s - loss: 2.2510 - accuracy: 0.3616\n",
      "Epoch 31/100\n",
      "13/13 - 0s - loss: 2.1979 - accuracy: 0.3766\n",
      "Epoch 32/100\n",
      "13/13 - 0s - loss: 2.1544 - accuracy: 0.3890\n",
      "Epoch 33/100\n",
      "13/13 - 0s - loss: 2.0991 - accuracy: 0.3965\n",
      "Epoch 34/100\n",
      "13/13 - 0s - loss: 2.0789 - accuracy: 0.3940\n",
      "Epoch 35/100\n",
      "13/13 - 0s - loss: 2.0252 - accuracy: 0.4314\n",
      "Epoch 36/100\n",
      "13/13 - 0s - loss: 1.9978 - accuracy: 0.4214\n",
      "Epoch 37/100\n",
      "13/13 - 0s - loss: 1.9456 - accuracy: 0.4539\n",
      "Epoch 38/100\n",
      "13/13 - 0s - loss: 1.9102 - accuracy: 0.4663\n",
      "Epoch 39/100\n",
      "13/13 - 0s - loss: 1.8762 - accuracy: 0.4638\n",
      "Epoch 40/100\n",
      "13/13 - 0s - loss: 1.8294 - accuracy: 0.4763\n",
      "Epoch 41/100\n",
      "13/13 - 0s - loss: 1.7789 - accuracy: 0.4938\n",
      "Epoch 42/100\n",
      "13/13 - 0s - loss: 1.7406 - accuracy: 0.5112\n",
      "Epoch 43/100\n",
      "13/13 - 0s - loss: 1.7059 - accuracy: 0.5112\n",
      "Epoch 44/100\n",
      "13/13 - 0s - loss: 1.6522 - accuracy: 0.5436\n",
      "Epoch 45/100\n",
      "13/13 - 0s - loss: 1.6259 - accuracy: 0.5561\n",
      "Epoch 46/100\n",
      "13/13 - 0s - loss: 1.5948 - accuracy: 0.5561\n",
      "Epoch 47/100\n",
      "13/13 - 0s - loss: 1.5470 - accuracy: 0.5611\n",
      "Epoch 48/100\n",
      "13/13 - 0s - loss: 1.5020 - accuracy: 0.5960\n",
      "Epoch 49/100\n",
      "13/13 - 0s - loss: 1.4561 - accuracy: 0.6085\n",
      "Epoch 50/100\n",
      "13/13 - 0s - loss: 1.4232 - accuracy: 0.6259\n",
      "Epoch 51/100\n",
      "13/13 - 0s - loss: 1.3797 - accuracy: 0.6384\n",
      "Epoch 52/100\n",
      "13/13 - 0s - loss: 1.3191 - accuracy: 0.6509\n",
      "Epoch 53/100\n",
      "13/13 - 0s - loss: 1.2957 - accuracy: 0.6833\n",
      "Epoch 54/100\n",
      "13/13 - 0s - loss: 1.2732 - accuracy: 0.6858\n",
      "Epoch 55/100\n",
      "13/13 - 0s - loss: 1.2210 - accuracy: 0.7082\n",
      "Epoch 56/100\n",
      "13/13 - 0s - loss: 1.1863 - accuracy: 0.7107\n",
      "Epoch 57/100\n",
      "13/13 - 0s - loss: 1.1572 - accuracy: 0.7082\n",
      "Epoch 58/100\n",
      "13/13 - 0s - loss: 1.1470 - accuracy: 0.7332\n",
      "Epoch 59/100\n",
      "13/13 - 0s - loss: 1.0976 - accuracy: 0.7581\n",
      "Epoch 60/100\n",
      "13/13 - 0s - loss: 1.0549 - accuracy: 0.7681\n",
      "Epoch 61/100\n",
      "13/13 - 0s - loss: 1.0121 - accuracy: 0.7905\n",
      "Epoch 62/100\n",
      "13/13 - 0s - loss: 0.9944 - accuracy: 0.7756\n",
      "Epoch 63/100\n",
      "13/13 - 0s - loss: 0.9499 - accuracy: 0.8055\n",
      "Epoch 64/100\n",
      "13/13 - 0s - loss: 0.9148 - accuracy: 0.8279\n",
      "Epoch 65/100\n",
      "13/13 - 0s - loss: 0.8951 - accuracy: 0.8204\n",
      "Epoch 66/100\n",
      "13/13 - 0s - loss: 0.8389 - accuracy: 0.8329\n",
      "Epoch 67/100\n",
      "13/13 - 0s - loss: 0.8192 - accuracy: 0.8479\n",
      "Epoch 68/100\n",
      "13/13 - 0s - loss: 0.7923 - accuracy: 0.8653\n",
      "Epoch 69/100\n",
      "13/13 - 0s - loss: 0.7535 - accuracy: 0.8728\n",
      "Epoch 70/100\n",
      "13/13 - 0s - loss: 0.7412 - accuracy: 0.8828\n",
      "Epoch 71/100\n",
      "13/13 - 0s - loss: 0.7189 - accuracy: 0.8828\n",
      "Epoch 72/100\n",
      "13/13 - 0s - loss: 0.6931 - accuracy: 0.8928\n",
      "Epoch 73/100\n",
      "13/13 - 0s - loss: 0.6734 - accuracy: 0.9102\n",
      "Epoch 74/100\n",
      "13/13 - 0s - loss: 0.6321 - accuracy: 0.9177\n",
      "Epoch 75/100\n",
      "13/13 - 0s - loss: 0.6130 - accuracy: 0.9152\n",
      "Epoch 76/100\n",
      "13/13 - 0s - loss: 0.6098 - accuracy: 0.9227\n",
      "Epoch 77/100\n",
      "13/13 - 0s - loss: 0.5622 - accuracy: 0.9426\n",
      "Epoch 78/100\n",
      "13/13 - 0s - loss: 0.5504 - accuracy: 0.9426\n",
      "Epoch 79/100\n",
      "13/13 - 0s - loss: 0.5248 - accuracy: 0.9401\n",
      "Epoch 80/100\n",
      "13/13 - 0s - loss: 0.5105 - accuracy: 0.9451\n",
      "Epoch 81/100\n",
      "13/13 - 0s - loss: 0.4984 - accuracy: 0.9576\n",
      "Epoch 82/100\n",
      "13/13 - 0s - loss: 0.4674 - accuracy: 0.9501\n",
      "Epoch 83/100\n",
      "13/13 - 0s - loss: 0.4484 - accuracy: 0.9626\n",
      "Epoch 84/100\n",
      "13/13 - 0s - loss: 0.4265 - accuracy: 0.9651\n",
      "Epoch 85/100\n",
      "13/13 - 0s - loss: 0.4236 - accuracy: 0.9726\n",
      "Epoch 86/100\n",
      "13/13 - 0s - loss: 0.4057 - accuracy: 0.9776\n",
      "Epoch 87/100\n",
      "13/13 - 0s - loss: 0.3915 - accuracy: 0.9751\n",
      "Epoch 88/100\n",
      "13/13 - 0s - loss: 0.3647 - accuracy: 0.9875\n",
      "Epoch 89/100\n",
      "13/13 - 0s - loss: 0.3544 - accuracy: 0.9800\n",
      "Epoch 90/100\n",
      "13/13 - 0s - loss: 0.3362 - accuracy: 0.9850\n",
      "Epoch 91/100\n",
      "13/13 - 0s - loss: 0.3357 - accuracy: 0.9900\n",
      "Epoch 92/100\n",
      "13/13 - 0s - loss: 0.3136 - accuracy: 0.9950\n",
      "Epoch 93/100\n",
      "13/13 - 0s - loss: 0.3075 - accuracy: 0.9875\n",
      "Epoch 94/100\n",
      "13/13 - 0s - loss: 0.2881 - accuracy: 0.9900\n",
      "Epoch 95/100\n",
      "13/13 - 0s - loss: 0.2745 - accuracy: 0.9950\n",
      "Epoch 96/100\n",
      "13/13 - 0s - loss: 0.2745 - accuracy: 0.9925\n",
      "Epoch 97/100\n",
      "13/13 - 0s - loss: 0.2668 - accuracy: 0.9875\n",
      "Epoch 98/100\n",
      "13/13 - 0s - loss: 0.2566 - accuracy: 0.9875\n",
      "Epoch 99/100\n",
      "13/13 - 0s - loss: 0.2426 - accuracy: 0.9850\n",
      "Epoch 100/100\n",
      "13/13 - 0s - loss: 0.2398 - accuracy: 0.9900\n"
     ]
    }
   ],
   "source": [
    "from numpy import array\n",
    "from pickle import dump\n",
    "from keras.utils import to_categorical\n",
    "from keras.utils.vis_utils import plot_model\n",
    "from keras.models import Sequential\n",
    "from keras.layers import Dense\n",
    "from keras.layers import LSTM\n",
    "\n",
    "\n",
    "# load doc into memory\n",
    "def load_doc(filename):\n",
    "    # open the file as read only\n",
    "    file = open(filename, 'r' )\n",
    "    # read all text\n",
    "    text = file.read()\n",
    "    # close the file\n",
    "    file.close()\n",
    "    return text\n",
    "\n",
    "\n",
    "# define the model\n",
    "def define_model(X):\n",
    "    model = Sequential()\n",
    "    model.add(LSTM(75, input_shape=(X.shape[1], X.shape[2])))\n",
    "    model.add(Dense(vocab_size, activation= 'softmax' ))\n",
    "    # compile model\n",
    "    model.compile(loss= 'categorical_crossentropy' , optimizer= 'adam' , metrics=[ 'accuracy' ])\n",
    "    # summarize defined model\n",
    "    model.summary()\n",
    "    plot_model(model, to_file= 'LSTMmodel.png' , show_shapes=True)\n",
    "    return model\n",
    "\n",
    "\n",
    "# load\n",
    "in_filename = 'char_sequences.txt'\n",
    "raw_text = load_doc(in_filename)\n",
    "lines = raw_text.split('\\n')\n",
    "\n",
    "\n",
    "# integer encode sequences of characters\n",
    "chars = sorted(list(set(raw_text)))\n",
    "mapping = dict((c, i) for i, c in enumerate(chars))\n",
    "\n",
    "\n",
    "sequences = list()\n",
    "for line in lines:\n",
    "    # integer encode line\n",
    "    encoded_seq = [mapping[char] for char in line]\n",
    "    # store\n",
    "    sequences.append(encoded_seq)\n",
    "    \n",
    "    \n",
    "# vocabulary size\n",
    "vocab_size = len(mapping)\n",
    "print( 'Vocabulary Size: %d' % vocab_size)\n",
    "# separate into input and output\n",
    "sequences = array(sequences)\n",
    "X, y = sequences[:,:-1], sequences[:,-1]\n",
    "sequences = [to_categorical(x, num_classes=vocab_size) for x in X]\n",
    "X = array(sequences)\n",
    "y = to_categorical(y, num_classes=vocab_size)\n",
    "\n",
    "# define model\n",
    "model = define_model(X)\n",
    "# fit model\n",
    "model.fit(X, y, epochs=100, verbose=2)\n",
    "# save the model to file\n",
    "model.save('LSTMmodel.h5')\n",
    "# save the mapping\n",
    "dump(mapping, open('mapping.pkl' , 'wb' ))"
   ]
  },
  {
   "cell_type": "markdown",
   "metadata": {},
   "source": [
    "## 3. Generate Characters"
   ]
  },
  {
   "cell_type": "code",
   "execution_count": 26,
   "metadata": {},
   "outputs": [
    {
     "name": "stdout",
     "output_type": "stream",
     "text": [
      "WARNING:tensorflow:From <ipython-input-26-597d78a90519>:19: Sequential.predict_classes (from tensorflow.python.keras.engine.sequential) is deprecated and will be removed after 2021-01-01.\n",
      "Instructions for updating:\n",
      "Please use instead:* `np.argmax(model.predict(x), axis=-1)`,   if your model does multi-class classification   (e.g. if it uses a `softmax` last-layer activation).* `(model.predict(x) > 0.5).astype(\"int32\")`,   if your model does binary classification   (e.g. if it uses a `sigmoid` last-layer activation).\n",
      "Sing a song of sixpence, A poc\n",
      "king was in his counting house\n",
      "hello worls Teeen  heek moe  a\n"
     ]
    }
   ],
   "source": [
    "from pickle import load\n",
    "from keras.models import load_model\n",
    "from keras.utils import to_categorical\n",
    "from keras.preprocessing.sequence import pad_sequences\n",
    "\n",
    "# generate a sequecne of characters with a language model\n",
    "def generate_seq(model,mapping,seq_length,seed_text,n_chars):\n",
    "    in_text = seed_text\n",
    "    # generate a fixed number of characters\n",
    "    for _ in range(n_chars):\n",
    "        # encode the characters as integers\n",
    "        encoded = [mapping[char] for char in in_text]\n",
    "        # truncate sequences to a fixed length\n",
    "        encoded = pad_sequences([encoded],maxlen=seq_length,truncating='pre')\n",
    "        # one hot encode\n",
    "        encoded = to_categorical(encoded,num_classes=len(mapping))\n",
    "        encoded = encoded.reshape(1,encoded.shape[1],encoded.shape[2])\n",
    "        # predict character\n",
    "        yhat = model.predict_classes(encoded,verbose=0)\n",
    "        # reverse map integer to character\n",
    "        out_char = ''\n",
    "        for char,index in mapping.items():\n",
    "            if index == yhat:\n",
    "                out_char = char\n",
    "                break\n",
    "        # append to input\n",
    "        in_text += out_char\n",
    "    return in_text\n",
    "\n",
    "# load model\n",
    "model = load_model('LSTMmodel.h5')\n",
    "\n",
    "# load the mapping\n",
    "mapping = load(open('mapping.pkl','rb'))\n",
    "\n",
    "# test start of rhyme\n",
    "print(generate_seq(model,mapping,10,'Sing a son',20))\n",
    "\n",
    "# test mid-line\n",
    "print(generate_seq(model,mapping,10,'king was i',20))\n",
    "\n",
    "# test not in original\n",
    "print(generate_seq(model,mapping,10,'hello worl',20))"
   ]
  },
  {
   "cell_type": "code",
   "execution_count": null,
   "metadata": {},
   "outputs": [],
   "source": []
  }
 ],
 "metadata": {
  "kernelspec": {
   "display_name": "Python 3",
   "language": "python",
   "name": "python3"
  },
  "language_info": {
   "codemirror_mode": {
    "name": "ipython",
    "version": 3
   },
   "file_extension": ".py",
   "mimetype": "text/x-python",
   "name": "python",
   "nbconvert_exporter": "python",
   "pygments_lexer": "ipython3",
   "version": "3.8.5"
  }
 },
 "nbformat": 4,
 "nbformat_minor": 4
}
